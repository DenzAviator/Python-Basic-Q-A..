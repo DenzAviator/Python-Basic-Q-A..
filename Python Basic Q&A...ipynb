{
 "cells": [
  {
   "cell_type": "markdown",
   "id": "64dee6f4",
   "metadata": {},
   "source": [
    "1. Explain what inheritance is in object-oriented programming and why it is used.\n",
    "\n",
    "Inheritance is a fundamental concept in object-oriented programming (OOP) that allows classes to inherit properties and behaviors from other classes. It enables the creation of hierarchical relationships between classes, where a new class, called the derived class or subclass, can inherit attributes and methods from an existing class, known as the base class or superclass.\n",
    "\n",
    "The primary purpose of inheritance is to promote code reusability and to establish an \"is-a\" relationship between classes. By inheriting from a base class, the subclass automatically acquires all the public and protected members (attributes and methods) of the base class. This eliminates the need to rewrite or duplicate code, as the subclass can reuse the existing functionality provided by the base class.\n",
    "\n",
    "Inheritance offers several benefits:\n",
    "\n",
    "Code reuse: Inheritance allows developers to reuse code by extending existing classes, thus reducing redundancy and promoting modular design. The base class encapsulates common attributes and behaviors, while subclasses can add or override specific functionality as needed.\n",
    "\n",
    "Extensibility: Inheritance provides a mechanism for extending the functionality of existing classes without modifying their implementation. New classes can be created by inheriting from a base class and adding additional attributes and methods specific to the new class.\n",
    "\n",
    "Polymorphism: Inheritance is closely related to polymorphism, another key concept in OOP. Polymorphism allows objects of different classes to be treated as objects of a common base class. This enables code flexibility and the ability to write generic algorithms that can operate on objects of various derived classes.\n",
    "\n",
    "Modularity and organization: Inheritance facilitates the organization of classes into a hierarchy based on their relationships. It allows developers to create a logical structure that reflects the real-world or conceptual relationships between entities, making the code more organized, understandable, and maintainable.\n",
    "\n",
    "In summary, inheritance is a powerful mechanism in OOP that promotes code reuse, extensibility, and modularity. By inheriting from a base class, subclasses gain access to its attributes and methods, enabling developers to build upon existing code and create more specialized classes efficiently."
   ]
  },
  {
   "cell_type": "code",
   "execution_count": null,
   "id": "69fdc971",
   "metadata": {},
   "outputs": [],
   "source": []
  },
  {
   "cell_type": "markdown",
   "id": "2486a1b1",
   "metadata": {},
   "source": [
    "2. Discuss the concept of single inheritance and multiple inheritance, highlighting their differences and advantages.\n",
    "\n",
    "In object-oriented programming, single inheritance and multiple inheritance are two different approaches to class inheritance, which is a mechanism for creating new classes based on existing classes. Both single inheritance and multiple inheritance offer their own advantages and have distinct differences.\n",
    "\n",
    "A base class, also known as a superclass or parent class, is a class that serves as a foundation or template for other classes. It defines common attributes and behaviors that can be inherited by other classes. The base class encapsulates the common functionality that is shared among multiple derived classes.\n",
    "\n",
    "A derived class, also known as a subclass or child class, is a class that inherits the attributes and behaviors of the base class. It extends or specializes the base class by adding or modifying its own unique attributes and behaviors. A derived class can access and use the members (fields, methods, properties, etc.) defined in the base class as if they were its own. It can also override or extend the base class's methods to provide different implementations."
   ]
  },
  {
   "cell_type": "code",
   "execution_count": null,
   "id": "d8c05f89",
   "metadata": {},
   "outputs": [],
   "source": []
  },
  {
   "cell_type": "markdown",
   "id": "0f631a23",
   "metadata": {},
   "source": [
    "3. Explain the terms \"base class\" and \"derived class\" in the context of inheritance\n",
    "\n",
    "In object-oriented programming, specifically in the context of inheritance, the terms \"base class\" and \"derived class\" refer to the relationship between two classes.\n",
    "\n",
    "A base class, also known as a superclass or parent class, is a class that serves as a blueprint for other classes. It defines common attributes and behaviors that can be inherited by its derived classes. The base class provides a foundation or template for creating more specialized classes. It encapsulates the common features and functionalities that can be shared among multiple derived classes.\n",
    "\n",
    "On the other hand, a derived class, also known as a subclass or child class, is a class that inherits properties and methods from its base class. It extends or specializes the base class by adding additional features or modifying the inherited behaviors. A derived class can access the members (fields, properties, and methods) of its base class and can also have its own unique members.\n",
    "\n",
    "Inheritance allows code reuse and promotes the concept of hierarchical relationships between classes. The derived class inherits the characteristics of the base class, and it can further extend or override those characteristics as per its requirements. This relationship enables the derived class to inherit the attributes and behaviors of the base class while providing the flexibility to customize or extend them.\n",
    "\n",
    "To establish the inheritance relationship between a base class and a derived class, the derived class is defined using the syntax that includes the base class name. For example, in many programming languages, the syntax for defining a derived class that inherits from a base class is:"
   ]
  },
  {
   "cell_type": "code",
   "execution_count": null,
   "id": "c4cb55d1",
   "metadata": {},
   "outputs": [],
   "source": []
  },
  {
   "cell_type": "markdown",
   "id": "21009670",
   "metadata": {},
   "source": [
    "4. What is the significance of the \"protected\" access modifier in inheritance? How does it differ from \"private\" and \"public\" modifiers?\n",
    "\n",
    "In object-oriented programming, the \"protected\" access modifier is used to define member variables and methods that are accessible within the same class, as well as by subclasses derived from that class. It establishes a level of visibility that falls between \"private\" and \"public\" modifiers.\n",
    "\n",
    "Here's a breakdown of the differences between the three access modifiers in the context of inheritance:\n",
    "\n",
    "Private: When a member variable or method is marked as private, it is only accessible within the class in which it is defined. Private members are not visible to any subclasses derived from the class. They are intended for internal use within the class and are not exposed to external code.\n",
    "\n",
    "Protected: The protected access modifier allows member variables and methods to be accessed within the class where they are defined, as well as within any subclasses derived from that class. Protected members are not accessible outside of the class hierarchy. This modifier enables derived classes to inherit and access the protected members of their base class, allowing for code reuse and extension.\n",
    "\n",
    "Public: The public access modifier provides the least restrictive access level. Public members are accessible from anywhere, both within the class and from external code. They can be accessed by any part of the program, including subclasses and unrelated classes.\n",
    "\n",
    "In summary, the \"protected\" access modifier in inheritance allows member variables and methods to be accessed within the defining class and any derived classes, promoting code reuse and extension. It strikes a balance between the more restrictive \"private\" modifier, which limits access to the defining class, and the less restrictive \"public\" modifier, which allows access from anywhere."
   ]
  },
  {
   "cell_type": "code",
   "execution_count": null,
   "id": "926e36a1",
   "metadata": {},
   "outputs": [],
   "source": []
  },
  {
   "cell_type": "markdown",
   "id": "4d04b303",
   "metadata": {},
   "source": [
    "5. What is the purpose of the \"super\" keyword in inheritance? Provide an example\n",
    "\n",
    "In object-oriented programming languages like Java or Python, the super keyword is used to refer to the superclass or parent class of a derived or subclass. It allows you to access the methods and variables defined in the superclass, enabling you to reuse and extend their functionality in the subclass.\n",
    "\n",
    "The primary purpose of the super keyword is to call the superclass's constructor or invoke its overridden methods from the subclass. By doing so, you can initialize the inherited members or perform additional operations while retaining the superclass's behavior."
   ]
  },
  {
   "cell_type": "code",
   "execution_count": 4,
   "id": "3621b260",
   "metadata": {},
   "outputs": [
    {
     "name": "stdout",
     "output_type": "stream",
     "text": [
      "Brand: Toyota\n",
      "Number of wheels: 4\n"
     ]
    }
   ],
   "source": [
    "class Vehicle:\n",
    "    def __init__(self, brand):\n",
    "        self.brand = brand\n",
    "\n",
    "    def display_brand(self):\n",
    "        print(\"Brand:\", self.brand)\n",
    "\n",
    "\n",
    "class Car(Vehicle):\n",
    "    def __init__(self, brand, number_of_streerigs):\n",
    "        super().__init__(brand)  # Invoking the constructor of the superclass\n",
    "        self.number_of_wheels = number_of_wheels\n",
    "\n",
    "    def display_details(self):\n",
    "        super().display_brand()  # Invoking the method of the superclass\n",
    "        print(\"Number of wheels:\", self.number_of_wheels)\n",
    "\n",
    "\n",
    "my_car = Car(\"Toyota\", 4)\n",
    "my_car.display_details()"
   ]
  },
  {
   "cell_type": "code",
   "execution_count": null,
   "id": "91eb0ba9",
   "metadata": {},
   "outputs": [],
   "source": []
  },
  {
   "cell_type": "markdown",
   "id": "78329952",
   "metadata": {},
   "source": [
    "6. Create a base class called \"Vehicle\" with attributes like \"make\", \"model\", and \"year\". Then, create a derived class called \"Car\" that inherits from \"Vehicle\" and adds an attribute called \"fuel_type\". Implement appropriate methods in both classes.\n"
   ]
  },
  {
   "cell_type": "code",
   "execution_count": 5,
   "id": "cae9a73c",
   "metadata": {},
   "outputs": [
    {
     "name": "stdout",
     "output_type": "stream",
     "text": [
      "Ford\n",
      "Mustang\n",
      "2022\n",
      "Make: Ford\n",
      "Model: Mustang\n",
      "Year: 2022\n",
      "Toyota\n",
      "Camry\n",
      "2021\n",
      "Gasoline\n",
      "Make: Toyota\n",
      "Model: Camry\n",
      "Year: 2021\n",
      "Fuel Type: Gasoline\n"
     ]
    }
   ],
   "source": [
    "class Vehicle:\n",
    "    def __init__(self, make, model, year):\n",
    "        self.make = make\n",
    "        self.model = model\n",
    "        self.year = year\n",
    "\n",
    "    def get_make(self):\n",
    "        return self.make\n",
    "\n",
    "    def get_model(self):\n",
    "        return self.model\n",
    "\n",
    "    def get_year(self):\n",
    "        return self.year\n",
    "\n",
    "    def display_info(self):\n",
    "        print(f\"Make: {self.make}\")\n",
    "        print(f\"Model: {self.model}\")\n",
    "        print(f\"Year: {self.year}\")\n",
    "\n",
    "\n",
    "class Car(Vehicle):\n",
    "    def __init__(self, make, model, year, fuel_type):\n",
    "        super().__init__(make, model, year)\n",
    "        self.fuel_type = fuel_type\n",
    "\n",
    "    def get_fuel_type(self):\n",
    "        return self.fuel_type\n",
    "\n",
    "    def display_info(self):\n",
    "        super().display_info()\n",
    "        print(f\"Fuel Type: {self.fuel_type}\")\n",
    "\n",
    "\n",
    "# Example usage:\n",
    "my_vehicle = Vehicle(\"Ford\", \"Mustang\", 2022)\n",
    "print(my_vehicle.get_make())  # Output: Ford\n",
    "print(my_vehicle.get_model())  # Output: Mustang\n",
    "print(my_vehicle.get_year())   # Output: 2022\n",
    "my_vehicle.display_info()\n",
    "# Output:\n",
    "# Make: Ford\n",
    "# Model: Mustang\n",
    "# Year: 2022\n",
    "\n",
    "my_car = Car(\"Toyota\", \"Camry\", 2021, \"Gasoline\")\n",
    "print(my_car.get_make())        # Output: Toyota\n",
    "print(my_car.get_model())       # Output: Camry\n",
    "print(my_car.get_year())        # Output: 2021\n",
    "print(my_car.get_fuel_type())   # Output: Gasoline\n",
    "my_car.display_info()\n",
    "# Output:\n",
    "# Make: Toyota\n",
    "# Model: Camry\n",
    "# Year: 2021\n",
    "# Fuel Type: Gasoline"
   ]
  },
  {
   "cell_type": "code",
   "execution_count": null,
   "id": "c292d7ac",
   "metadata": {},
   "outputs": [],
   "source": []
  },
  {
   "cell_type": "markdown",
   "id": "1157f6ea",
   "metadata": {},
   "source": [
    "7. Create a base class called \"Employee\" with attributes like \"name\" and \"salary.\" Derive two classes, \"Manager\" and \"Developer,\" from \"Employee.\" Add an additional attribute called \"department\" for the \"Manager\" class and \"programming_language\" for the \"Developer\" class.\n"
   ]
  },
  {
   "cell_type": "code",
   "execution_count": 6,
   "id": "46d6c35c",
   "metadata": {},
   "outputs": [],
   "source": [
    "class Employee:\n",
    "    def __init__(self, name, salary):\n",
    "        self.name = name\n",
    "        self.salary = salary\n",
    "\n",
    "\n",
    "class Manager(Employee):\n",
    "    def __init__(self, name, salary, department):\n",
    "        super().__init__(name, salary)\n",
    "        self.department = department\n",
    "\n",
    "\n",
    "class Developer(Employee):\n",
    "    def __init__(self, name, salary, programming_language):\n",
    "        super().__init__(name, salary)\n",
    "        self.programming_language = programming_language"
   ]
  },
  {
   "cell_type": "code",
   "execution_count": 7,
   "id": "12e3edc9",
   "metadata": {},
   "outputs": [
    {
     "name": "stdout",
     "output_type": "stream",
     "text": [
      "John Smith\n",
      "5000\n",
      "Sales\n",
      "Jane Doe\n",
      "4000\n",
      "Python\n"
     ]
    }
   ],
   "source": [
    "# Create Manager instance\n",
    "manager = Manager(\"John Smith\", 5000, \"Sales\")\n",
    "print(manager.name)          # Output: John Smith\n",
    "print(manager.salary)        # Output: 5000\n",
    "print(manager.department)    # Output: Sales\n",
    "\n",
    "# Create Developer instance\n",
    "developer = Developer(\"Jane Doe\", 4000, \"Python\")\n",
    "print(developer.name)                # Output: Jane Doe\n",
    "print(developer.salary)              # Output: 4000\n",
    "print(developer.programming_language) # Output: Python"
   ]
  },
  {
   "cell_type": "code",
   "execution_count": null,
   "id": "56b827ad",
   "metadata": {},
   "outputs": [],
   "source": []
  },
  {
   "cell_type": "markdown",
   "id": "7b6e3f16",
   "metadata": {},
   "source": [
    "8. Design a base class called \"Shape\" with attributes like \"colour\" and \"border_width.\" Create derived classes, \"Rectangle\" and \"Circle,\" that inherit from \"Shape\" and add specific attributes like \"length\" and \"width\" for the \"Rectangle\" class and \"radius\" for the \"Circle\" class.\n"
   ]
  },
  {
   "cell_type": "code",
   "execution_count": 8,
   "id": "f85e0140",
   "metadata": {},
   "outputs": [
    {
     "name": "stdout",
     "output_type": "stream",
     "text": [
      "blue\n",
      "2\n",
      "10\n",
      "5\n",
      "red\n",
      "1\n",
      "7\n"
     ]
    }
   ],
   "source": [
    "class Shape:\n",
    "    def __init__(self, colour, border_width):\n",
    "        self.colour = colour\n",
    "        self.border_width = border_width\n",
    "\n",
    "\n",
    "class Rectangle(Shape):\n",
    "    def __init__(self, colour, border_width, length, width):\n",
    "        super().__init__(colour, border_width)\n",
    "        self.length = length\n",
    "        self.width = width\n",
    "\n",
    "\n",
    "class Circle(Shape):\n",
    "    def __init__(self, colour, border_width, radius):\n",
    "        super().__init__(colour, border_width)\n",
    "        self.radius = radius\n",
    "\n",
    "\n",
    "# Example usage\n",
    "rectangle = Rectangle(\"blue\", 2, 10, 5)\n",
    "print(rectangle.colour)        # Output: blue\n",
    "print(rectangle.border_width)  # Output: 2\n",
    "print(rectangle.length)        # Output: 10\n",
    "print(rectangle.width)         # Output: 5\n",
    "\n",
    "circle = Circle(\"red\", 1, 7)\n",
    "print(circle.colour)          # Output: red\n",
    "print(circle.border_width)    # Output: 1\n",
    "print(circle.radius)          # Output: 7"
   ]
  },
  {
   "cell_type": "code",
   "execution_count": null,
   "id": "2e402b1f",
   "metadata": {},
   "outputs": [],
   "source": []
  },
  {
   "cell_type": "markdown",
   "id": "63bc004b",
   "metadata": {},
   "source": [
    "9. Create a base class called \"Device\" with attributes like \"brand\" and \"model.\" Derive two classes, \"Phone\" and \"Tablet,\" from \"Device.\" Add specific attributes like \"screen_size\" for the \"Phone\" class and \"battery_capacity\" for the \"Tablet\" class.\n"
   ]
  },
  {
   "cell_type": "code",
   "execution_count": 9,
   "id": "5c6ffb1d",
   "metadata": {},
   "outputs": [
    {
     "name": "stdout",
     "output_type": "stream",
     "text": [
      "Apple\n",
      "iPhone 12\n",
      "6.1\n",
      "Samsung\n",
      "Galaxy Tab S7\n",
      "8000\n"
     ]
    }
   ],
   "source": [
    "class Device:\n",
    "    def __init__(self, brand, model):\n",
    "        self.brand = brand\n",
    "        self.model = model\n",
    "\n",
    "\n",
    "class Phone(Device):\n",
    "    def __init__(self, brand, model, screen_size):\n",
    "        super().__init__(brand, model)\n",
    "        self.screen_size = screen_size\n",
    "\n",
    "\n",
    "class Tablet(Device):\n",
    "    def __init__(self, brand, model, battery_capacity):\n",
    "        super().__init__(brand, model)\n",
    "        self.battery_capacity = battery_capacity\n",
    "\n",
    "\n",
    "# Example usage\n",
    "phone = Phone(\"Apple\", \"iPhone 12\", 6.1)\n",
    "tablet = Tablet(\"Samsung\", \"Galaxy Tab S7\", 8000)\n",
    "\n",
    "print(phone.brand)  # Output: Apple\n",
    "print(phone.model)  # Output: iPhone 12\n",
    "print(phone.screen_size)  # Output: 6.1\n",
    "\n",
    "print(tablet.brand)  # Output: Samsung\n",
    "print(tablet.model)  # Output: Galaxy Tab S7\n",
    "print(tablet.battery_capacity)  # Output: 8000"
   ]
  },
  {
   "cell_type": "code",
   "execution_count": null,
   "id": "d61b7497",
   "metadata": {},
   "outputs": [],
   "source": []
  },
  {
   "cell_type": "markdown",
   "id": "de81c4ab",
   "metadata": {},
   "source": [
    "10.Create a base class called \"BankAccount\" with attributes like \"account_number\" and \"balance.\" Derive two classes, \"SavingsAccount\" and \"CheckingAccount,\" from \"BankAccount.\" Add specific methods like \"calculate_interest\" for the \"SavingsAccount\" class and \"deduct_fees\" for the \"CheckingAccount\" class.\n"
   ]
  },
  {
   "cell_type": "code",
   "execution_count": 10,
   "id": "1710440b",
   "metadata": {},
   "outputs": [],
   "source": [
    "class BankAccount:\n",
    "    def __init__(self, account_number, balance):\n",
    "        self.account_number = account_number\n",
    "        self.balance = balance\n",
    "\n",
    "\n",
    "class SavingsAccount(BankAccount):\n",
    "    def calculate_interest(self, rate):\n",
    "        interest = self.balance * rate\n",
    "        self.balance += interest\n",
    "        return interest\n",
    "\n",
    "\n",
    "class CheckingAccount(BankAccount):\n",
    "    def deduct_fees(self, fees):\n",
    "        if self.balance >= fees:\n",
    "            self.balance -= fees\n",
    "            return fees\n",
    "        else:\n",
    "            print(\"Insufficient funds to deduct fees.\")\n",
    "            return 0"
   ]
  },
  {
   "cell_type": "code",
   "execution_count": 12,
   "id": "05624651",
   "metadata": {},
   "outputs": [
    {
     "name": "stdout",
     "output_type": "stream",
     "text": [
      "Interest earned: 50.0\n",
      "Updated balance: 1050.0\n",
      "Fees deducted: 10.0\n",
      "Updated balance: 490.0\n"
     ]
    }
   ],
   "source": [
    "# Create a SavingsAccount object\n",
    "savings = SavingsAccount(\"SA12345\", 1000.0)\n",
    "interest = savings.calculate_interest(0.05)\n",
    "print(\"Interest earned:\", interest)\n",
    "print(\"Updated balance:\", savings.balance)\n",
    "\n",
    "# Create a CheckingAccount object\n",
    "checking = CheckingAccount(\"CA98765\", 500.0)\n",
    "fees = checking.deduct_fees(10.0)\n",
    "print(\"Fees deducted:\", fees)\n",
    "print(\"Updated balance:\", checking.balance)"
   ]
  },
  {
   "cell_type": "code",
   "execution_count": null,
   "id": "f8d5a9b2",
   "metadata": {},
   "outputs": [],
   "source": []
  }
 ],
 "metadata": {
  "kernelspec": {
   "display_name": "Python 3 (ipykernel)",
   "language": "python",
   "name": "python3"
  },
  "language_info": {
   "codemirror_mode": {
    "name": "ipython",
    "version": 3
   },
   "file_extension": ".py",
   "mimetype": "text/x-python",
   "name": "python",
   "nbconvert_exporter": "python",
   "pygments_lexer": "ipython3",
   "version": "3.10.9"
  }
 },
 "nbformat": 4,
 "nbformat_minor": 5
}
